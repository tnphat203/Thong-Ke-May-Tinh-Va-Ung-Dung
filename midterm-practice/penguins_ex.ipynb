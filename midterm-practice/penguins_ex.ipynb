{
 "cells": [
  {
   "cell_type": "code",
   "execution_count": 2,
   "metadata": {},
   "outputs": [
    {
     "name": "stderr",
     "output_type": "stream",
     "text": [
      "C:\\Users\\TranNgocPhat\\AppData\\Local\\Temp\\ipykernel_20172\\555797462.py:1: DeprecationWarning: \n",
      "Pyarrow will become a required dependency of pandas in the next major release of pandas (pandas 3.0),\n",
      "(to allow more performant data types, such as the Arrow string type, and better interoperability with other libraries)\n",
      "but was not found to be installed on your system.\n",
      "If this would cause problems for you,\n",
      "please provide us feedback at https://github.com/pandas-dev/pandas/issues/54466\n",
      "        \n",
      "  import pandas as pd\n"
     ]
    }
   ],
   "source": [
    "import pandas as pd\n",
    "import numpy as np\n",
    "import matplotlib.pyplot as plt\n",
    "import seaborn as sns"
   ]
  },
  {
   "cell_type": "markdown",
   "metadata": {},
   "source": [
    "1. Đọc dữ liệu và hiển thị 10 dòng dữ liệu đầu tiên"
   ]
  },
  {
   "cell_type": "code",
   "execution_count": 3,
   "metadata": {},
   "outputs": [
    {
     "data": {
      "text/html": [
       "<div>\n",
       "<style scoped>\n",
       "    .dataframe tbody tr th:only-of-type {\n",
       "        vertical-align: middle;\n",
       "    }\n",
       "\n",
       "    .dataframe tbody tr th {\n",
       "        vertical-align: top;\n",
       "    }\n",
       "\n",
       "    .dataframe thead th {\n",
       "        text-align: right;\n",
       "    }\n",
       "</style>\n",
       "<table border=\"1\" class=\"dataframe\">\n",
       "  <thead>\n",
       "    <tr style=\"text-align: right;\">\n",
       "      <th></th>\n",
       "      <th>Unnamed: 0</th>\n",
       "      <th>species</th>\n",
       "      <th>island</th>\n",
       "      <th>bill_length_mm</th>\n",
       "      <th>bill_depth_mm</th>\n",
       "      <th>flipper_length_mm</th>\n",
       "      <th>body_mass_g</th>\n",
       "      <th>sex</th>\n",
       "    </tr>\n",
       "  </thead>\n",
       "  <tbody>\n",
       "    <tr>\n",
       "      <th>0</th>\n",
       "      <td>0</td>\n",
       "      <td>Adelie</td>\n",
       "      <td>Torgersen</td>\n",
       "      <td>39.1</td>\n",
       "      <td>18.7</td>\n",
       "      <td>181.0</td>\n",
       "      <td>3750.0</td>\n",
       "      <td>MALE</td>\n",
       "    </tr>\n",
       "    <tr>\n",
       "      <th>1</th>\n",
       "      <td>1</td>\n",
       "      <td>Adelie</td>\n",
       "      <td>Torgersen</td>\n",
       "      <td>39.5</td>\n",
       "      <td>17.4</td>\n",
       "      <td>186.0</td>\n",
       "      <td>3800.0</td>\n",
       "      <td>FEMALE</td>\n",
       "    </tr>\n",
       "    <tr>\n",
       "      <th>2</th>\n",
       "      <td>2</td>\n",
       "      <td>Adelie</td>\n",
       "      <td>Torgersen</td>\n",
       "      <td>40.3</td>\n",
       "      <td>18.0</td>\n",
       "      <td>195.0</td>\n",
       "      <td>3250.0</td>\n",
       "      <td>FEMALE</td>\n",
       "    </tr>\n",
       "    <tr>\n",
       "      <th>3</th>\n",
       "      <td>4</td>\n",
       "      <td>Adelie</td>\n",
       "      <td>Torgersen</td>\n",
       "      <td>36.7</td>\n",
       "      <td>19.3</td>\n",
       "      <td>193.0</td>\n",
       "      <td>3450.0</td>\n",
       "      <td>FEMALE</td>\n",
       "    </tr>\n",
       "    <tr>\n",
       "      <th>4</th>\n",
       "      <td>5</td>\n",
       "      <td>Adelie</td>\n",
       "      <td>Torgersen</td>\n",
       "      <td>39.3</td>\n",
       "      <td>20.6</td>\n",
       "      <td>190.0</td>\n",
       "      <td>3650.0</td>\n",
       "      <td>MALE</td>\n",
       "    </tr>\n",
       "    <tr>\n",
       "      <th>5</th>\n",
       "      <td>6</td>\n",
       "      <td>Adelie</td>\n",
       "      <td>Torgersen</td>\n",
       "      <td>38.9</td>\n",
       "      <td>17.8</td>\n",
       "      <td>181.0</td>\n",
       "      <td>3625.0</td>\n",
       "      <td>FEMALE</td>\n",
       "    </tr>\n",
       "    <tr>\n",
       "      <th>6</th>\n",
       "      <td>7</td>\n",
       "      <td>Adelie</td>\n",
       "      <td>Torgersen</td>\n",
       "      <td>39.2</td>\n",
       "      <td>19.6</td>\n",
       "      <td>195.0</td>\n",
       "      <td>4675.0</td>\n",
       "      <td>MALE</td>\n",
       "    </tr>\n",
       "    <tr>\n",
       "      <th>7</th>\n",
       "      <td>12</td>\n",
       "      <td>Adelie</td>\n",
       "      <td>Torgersen</td>\n",
       "      <td>41.1</td>\n",
       "      <td>17.6</td>\n",
       "      <td>182.0</td>\n",
       "      <td>3200.0</td>\n",
       "      <td>FEMALE</td>\n",
       "    </tr>\n",
       "    <tr>\n",
       "      <th>8</th>\n",
       "      <td>13</td>\n",
       "      <td>Adelie</td>\n",
       "      <td>Torgersen</td>\n",
       "      <td>38.6</td>\n",
       "      <td>21.2</td>\n",
       "      <td>191.0</td>\n",
       "      <td>3800.0</td>\n",
       "      <td>MALE</td>\n",
       "    </tr>\n",
       "    <tr>\n",
       "      <th>9</th>\n",
       "      <td>14</td>\n",
       "      <td>Adelie</td>\n",
       "      <td>Torgersen</td>\n",
       "      <td>34.6</td>\n",
       "      <td>21.1</td>\n",
       "      <td>198.0</td>\n",
       "      <td>4400.0</td>\n",
       "      <td>MALE</td>\n",
       "    </tr>\n",
       "  </tbody>\n",
       "</table>\n",
       "</div>"
      ],
      "text/plain": [
       "   Unnamed: 0 species     island  bill_length_mm  bill_depth_mm  \\\n",
       "0           0  Adelie  Torgersen            39.1           18.7   \n",
       "1           1  Adelie  Torgersen            39.5           17.4   \n",
       "2           2  Adelie  Torgersen            40.3           18.0   \n",
       "3           4  Adelie  Torgersen            36.7           19.3   \n",
       "4           5  Adelie  Torgersen            39.3           20.6   \n",
       "5           6  Adelie  Torgersen            38.9           17.8   \n",
       "6           7  Adelie  Torgersen            39.2           19.6   \n",
       "7          12  Adelie  Torgersen            41.1           17.6   \n",
       "8          13  Adelie  Torgersen            38.6           21.2   \n",
       "9          14  Adelie  Torgersen            34.6           21.1   \n",
       "\n",
       "   flipper_length_mm  body_mass_g     sex  \n",
       "0              181.0       3750.0    MALE  \n",
       "1              186.0       3800.0  FEMALE  \n",
       "2              195.0       3250.0  FEMALE  \n",
       "3              193.0       3450.0  FEMALE  \n",
       "4              190.0       3650.0    MALE  \n",
       "5              181.0       3625.0  FEMALE  \n",
       "6              195.0       4675.0    MALE  \n",
       "7              182.0       3200.0  FEMALE  \n",
       "8              191.0       3800.0    MALE  \n",
       "9              198.0       4400.0    MALE  "
      ]
     },
     "execution_count": 3,
     "metadata": {},
     "output_type": "execute_result"
    }
   ],
   "source": [
    "penguins_POP = pd.read_csv(\"../midterm-practice/penguins-data.csv\")\n",
    "penguins_POP.head(10)"
   ]
  },
  {
   "cell_type": "markdown",
   "metadata": {},
   "source": [
    "2. Tìm hiểu thông tin về dữ liệu: \n",
    "\n",
    "\n",
    " a. Số lượng chim cánh cụt của mỗi loài.  \n",
    "\n",
    "\n",
    " b. Số lượng mỗi loài chim cánh cụt trên mỗi đảo \n",
    "\n",
    "\n",
    " c. Với mỗi loại chim cánh cụt, bạn hãy so sánh các đại lượng thống kê: giá trị \n",
    "trung bình, trung vị, độ lệch chuẩn trên các thuộc tính độ dài mỏ \n",
    "(bill_leghth_mm), độ sâu mỏ (bill_depth_mm), độ dài cánh (flipper) và trọng \n",
    "lượng (body_mass).\n",
    "\n",
    "\n",
    " d. Dựa trên kết quả tính được, bạn có rút ra được nhận xét gì không?"
   ]
  },
  {
   "cell_type": "code",
   "execution_count": 4,
   "metadata": {},
   "outputs": [
    {
     "data": {
      "text/plain": [
       "species\n",
       "Adelie       146\n",
       "Chinstrap     68\n",
       "Gentoo       119\n",
       "dtype: int64"
      ]
     },
     "execution_count": 4,
     "metadata": {},
     "output_type": "execute_result"
    }
   ],
   "source": [
    "# a\n",
    "penguins_POP.groupby('species').size()"
   ]
  },
  {
   "cell_type": "code",
   "execution_count": 5,
   "metadata": {},
   "outputs": [
    {
     "data": {
      "text/plain": [
       "species    island   \n",
       "Adelie     Biscoe        44\n",
       "           Dream         55\n",
       "           Torgersen     47\n",
       "Chinstrap  Dream         68\n",
       "Gentoo     Biscoe       119\n",
       "dtype: int64"
      ]
     },
     "execution_count": 5,
     "metadata": {},
     "output_type": "execute_result"
    }
   ],
   "source": [
    "#b \n",
    "penguins_POP.groupby(['species', 'island']).size()"
   ]
  },
  {
   "cell_type": "code",
   "execution_count": 10,
   "metadata": {},
   "outputs": [
    {
     "data": {
      "text/html": [
       "<div>\n",
       "<style scoped>\n",
       "    .dataframe tbody tr th:only-of-type {\n",
       "        vertical-align: middle;\n",
       "    }\n",
       "\n",
       "    .dataframe tbody tr th {\n",
       "        vertical-align: top;\n",
       "    }\n",
       "\n",
       "    .dataframe thead th {\n",
       "        text-align: right;\n",
       "    }\n",
       "</style>\n",
       "<table border=\"1\" class=\"dataframe\">\n",
       "  <thead>\n",
       "    <tr style=\"text-align: right;\">\n",
       "      <th></th>\n",
       "      <th></th>\n",
       "      <th>mean</th>\n",
       "      <th>50%</th>\n",
       "      <th>std</th>\n",
       "    </tr>\n",
       "  </thead>\n",
       "  <tbody>\n",
       "    <tr>\n",
       "      <th rowspan=\"4\" valign=\"top\">Adelie</th>\n",
       "      <th>bill_length_mm</th>\n",
       "      <td>38.823973</td>\n",
       "      <td>38.85</td>\n",
       "      <td>2.662597</td>\n",
       "    </tr>\n",
       "    <tr>\n",
       "      <th>bill_depth_mm</th>\n",
       "      <td>18.347260</td>\n",
       "      <td>18.40</td>\n",
       "      <td>1.219338</td>\n",
       "    </tr>\n",
       "    <tr>\n",
       "      <th>flipper_length_mm</th>\n",
       "      <td>190.102740</td>\n",
       "      <td>190.00</td>\n",
       "      <td>6.521825</td>\n",
       "    </tr>\n",
       "    <tr>\n",
       "      <th>body_mass_g</th>\n",
       "      <td>3706.164384</td>\n",
       "      <td>3700.00</td>\n",
       "      <td>458.620135</td>\n",
       "    </tr>\n",
       "    <tr>\n",
       "      <th rowspan=\"4\" valign=\"top\">Chinstrap</th>\n",
       "      <th>bill_length_mm</th>\n",
       "      <td>48.833824</td>\n",
       "      <td>49.55</td>\n",
       "      <td>3.339256</td>\n",
       "    </tr>\n",
       "    <tr>\n",
       "      <th>bill_depth_mm</th>\n",
       "      <td>18.420588</td>\n",
       "      <td>18.45</td>\n",
       "      <td>1.135395</td>\n",
       "    </tr>\n",
       "    <tr>\n",
       "      <th>flipper_length_mm</th>\n",
       "      <td>195.823529</td>\n",
       "      <td>196.00</td>\n",
       "      <td>7.131894</td>\n",
       "    </tr>\n",
       "    <tr>\n",
       "      <th>body_mass_g</th>\n",
       "      <td>3733.088235</td>\n",
       "      <td>3700.00</td>\n",
       "      <td>384.335081</td>\n",
       "    </tr>\n",
       "    <tr>\n",
       "      <th rowspan=\"4\" valign=\"top\">Gentoo</th>\n",
       "      <th>bill_length_mm</th>\n",
       "      <td>47.568067</td>\n",
       "      <td>47.40</td>\n",
       "      <td>3.106116</td>\n",
       "    </tr>\n",
       "    <tr>\n",
       "      <th>bill_depth_mm</th>\n",
       "      <td>14.996639</td>\n",
       "      <td>15.00</td>\n",
       "      <td>0.985998</td>\n",
       "    </tr>\n",
       "    <tr>\n",
       "      <th>flipper_length_mm</th>\n",
       "      <td>217.235294</td>\n",
       "      <td>216.00</td>\n",
       "      <td>6.585431</td>\n",
       "    </tr>\n",
       "    <tr>\n",
       "      <th>body_mass_g</th>\n",
       "      <td>5092.436975</td>\n",
       "      <td>5050.00</td>\n",
       "      <td>501.476154</td>\n",
       "    </tr>\n",
       "  </tbody>\n",
       "</table>\n",
       "</div>"
      ],
      "text/plain": [
       "                                    mean      50%         std\n",
       "Adelie    bill_length_mm       38.823973    38.85    2.662597\n",
       "          bill_depth_mm        18.347260    18.40    1.219338\n",
       "          flipper_length_mm   190.102740   190.00    6.521825\n",
       "          body_mass_g        3706.164384  3700.00  458.620135\n",
       "Chinstrap bill_length_mm       48.833824    49.55    3.339256\n",
       "          bill_depth_mm        18.420588    18.45    1.135395\n",
       "          flipper_length_mm   195.823529   196.00    7.131894\n",
       "          body_mass_g        3733.088235  3700.00  384.335081\n",
       "Gentoo    bill_length_mm       47.568067    47.40    3.106116\n",
       "          bill_depth_mm        14.996639    15.00    0.985998\n",
       "          flipper_length_mm   217.235294   216.00    6.585431\n",
       "          body_mass_g        5092.436975  5050.00  501.476154"
      ]
     },
     "execution_count": 10,
     "metadata": {},
     "output_type": "execute_result"
    }
   ],
   "source": [
    "#c\n",
    "adelie = penguins_POP[penguins_POP['species'] == 'Adelie'][['bill_length_mm','bill_depth_mm','flipper_length_mm','body_mass_g']].describe().loc[['mean','50%','std']]\n",
    "chinstrap = penguins_POP[penguins_POP['species'] == 'Chinstrap'][['bill_length_mm','bill_depth_mm','flipper_length_mm','body_mass_g']].describe().loc[['mean','50%','std']]\n",
    "gentoo = penguins_POP[penguins_POP['species'] == 'Gentoo'][['bill_length_mm','bill_depth_mm','flipper_length_mm','body_mass_g']].describe().loc[['mean','50%','std']]\n",
    "\n",
    "pd.concat([adelie, chinstrap, gentoo], axis=1, keys=['Adelie', 'Chinstrap', 'Gentoo']).transpose()"
   ]
  },
  {
   "cell_type": "markdown",
   "metadata": {},
   "source": [
    "3. Vẽ đồ thị phù hợp thể hiện phân phối của ba loại chim cánh cụt, qua đó bạn \n",
    "hãy đưa ra bình luận của mình. "
   ]
  },
  {
   "cell_type": "code",
   "execution_count": 16,
   "metadata": {},
   "outputs": [
    {
     "name": "stderr",
     "output_type": "stream",
     "text": [
      "c:\\Users\\TranNgocPhat\\AppData\\Local\\Programs\\Python\\Python312\\Lib\\site-packages\\seaborn\\_base.py:949: FutureWarning: When grouping with a length-1 list-like, you will need to pass a length-1 tuple to get_group in a future version of pandas. Pass `(name,)` instead of `name` to silence this warning.\n",
      "  data_subset = grouped_data.get_group(pd_key)\n",
      "c:\\Users\\TranNgocPhat\\AppData\\Local\\Programs\\Python\\Python312\\Lib\\site-packages\\seaborn\\_base.py:949: FutureWarning: When grouping with a length-1 list-like, you will need to pass a length-1 tuple to get_group in a future version of pandas. Pass `(name,)` instead of `name` to silence this warning.\n",
      "  data_subset = grouped_data.get_group(pd_key)\n",
      "c:\\Users\\TranNgocPhat\\AppData\\Local\\Programs\\Python\\Python312\\Lib\\site-packages\\seaborn\\_base.py:949: FutureWarning: When grouping with a length-1 list-like, you will need to pass a length-1 tuple to get_group in a future version of pandas. Pass `(name,)` instead of `name` to silence this warning.\n",
      "  data_subset = grouped_data.get_group(pd_key)\n"
     ]
    },
    {
     "data": {
      "image/png": "[encoded data removed]",
      "text/plain": [
       "<Figure size 1000x600 with 1 Axes>"
      ]
     },
     "metadata": {},
     "output_type": "display_data"
    }
   ],
   "source": [
    "plt.figure(figsize=(10,6))\n",
    "sns.countplot(x='island', hue='species', data=penguins_POP)\n",
    "plt.title('Phân phối của ba loại chim cánh cụt')\n",
    "plt.legend(title='Loài')\n",
    "plt.show()"
   ]
  },
  {
   "cell_type": "markdown",
   "metadata": {},
   "source": [
    "4. Chọn loại đồ thị phù hợp để khảo sát mối quan hệ giữa độ dài cánh và trọng \n",
    "lượng của loài chim cánh cụt Gentoo: \n",
    "\n",
    "\n",
    "a. Theo bạn hai đại lượng này có quan hệ với nhau hay không? Giải thích. \n",
    "\n",
    "\n",
    "b. Ngoài độ dài cánh, theo bạn còn thuộc tính nào có khả năng ảnh hưởng đến \n",
    "trọng lượng của loài chim Gentoo?"
   ]
  }
 ],
 "metadata": {
  "kernelspec": {
   "display_name": "Python 3",
   "language": "python",
   "name": "python3"
  },
  "language_info": {
   "codemirror_mode": {
    "name": "ipython",
    "version": 3
   },
   "file_extension": ".py",
   "mimetype": "text/x-python",
   "name": "python",
   "nbconvert_exporter": "python",
   "pygments_lexer": "ipython3",
   "version": "3.12.1"
  }
 },
 "nbformat": 4,
 "nbformat_minor": 2
}
