{
 "cells": [
  {
   "cell_type": "markdown",
   "metadata": {},
   "source": [
    "# Bài tập ngày 28/01/2024\n",
    "## Trần Ngọc Phát"
   ]
  },
  {
   "cell_type": "code",
   "execution_count": 3,
   "metadata": {},
   "outputs": [
    {
     "name": "stderr",
     "output_type": "stream",
     "text": [
      "C:\\Users\\TranNgocPhat\\AppData\\Local\\Temp\\ipykernel_9120\\494524429.py:2: DeprecationWarning: \n",
      "Pyarrow will become a required dependency of pandas in the next major release of pandas (pandas 3.0),\n",
      "(to allow more performant data types, such as the Arrow string type, and better interoperability with other libraries)\n",
      "but was not found to be installed on your system.\n",
      "If this would cause problems for you,\n",
      "please provide us feedback at https://github.com/pandas-dev/pandas/issues/54466\n",
      "        \n",
      "  import pandas as pd\n"
     ]
    }
   ],
   "source": [
    "# Import pandas\n",
    "import pandas as pd\n",
    "import numpy as np"
   ]
  },
  {
   "cell_type": "code",
   "execution_count": 4,
   "metadata": {},
   "outputs": [],
   "source": [
    "# Import xls files\n",
    "df_file1 = pd.read_excel(r\"./diem_1.xls\")\n",
    "df_file2 = pd.read_excel(r\"./diem_2.xls\")\n",
    "df_file_final = pd.read_excel(r\"./diem_final.xls\")"
   ]
  },
  {
   "cell_type": "code",
   "execution_count": 5,
   "metadata": {},
   "outputs": [],
   "source": [
    "# Remove duplicate rows\n",
    "df_file1.drop_duplicates(inplace=True)\n",
    "df_file2.drop_duplicates(inplace=True)\n",
    "df_file_final.drop_duplicates(inplace=True)"
   ]
  },
  {
   "cell_type": "code",
   "execution_count": 6,
   "metadata": {},
   "outputs": [],
   "source": [
    "# Remove rows with missing values\n",
    "df_file1.dropna(inplace=True)\n",
    "df_file2.dropna(inplace=True)\n",
    "df_file_final.dropna(inplace=True)"
   ]
  },
  {
   "cell_type": "code",
   "execution_count": 7,
   "metadata": {},
   "outputs": [],
   "source": [
    "# Rename column Diem_1 to diem_1\n",
    "df_file1.rename({\n",
    "    \"Diem_1\": \"diem_1\"\n",
    "}, inplace=True, axis=1)"
   ]
  },
  {
   "cell_type": "code",
   "execution_count": 8,
   "metadata": {},
   "outputs": [
    {
     "name": "stdout",
     "output_type": "stream",
     "text": [
      "<class 'pandas.core.frame.DataFrame'>\n",
      "Index: 57 entries, 0 to 57\n",
      "Data columns (total 2 columns):\n",
      " #   Column  Non-Null Count  Dtype \n",
      "---  ------  --------------  ----- \n",
      " 0   MSSV    57 non-null     object\n",
      " 1   diem_2  57 non-null     int64 \n",
      "dtypes: int64(1), object(1)\n",
      "memory usage: 1.3+ KB\n"
     ]
    }
   ],
   "source": [
    "df_file2 = df_file2.assign(MSSV=df_file2[\"MSSV\"].astype(str))[[\"MSSV\", \"diem_2\"]]\n",
    "df_file2.info()"
   ]
  },
  {
   "cell_type": "code",
   "execution_count": 9,
   "metadata": {},
   "outputs": [],
   "source": [
    "# Rename column MSSV to Mã sinh viên\n",
    "df_file2 = df_file2.rename({\n",
    "    \"MSSV\": \"Mã sinh viên\"\n",
    "}, axis=1)"
   ]
  },
  {
   "cell_type": "code",
   "execution_count": 10,
   "metadata": {},
   "outputs": [
    {
     "data": {
      "text/html": [
       "<div>\n",
       "<style scoped>\n",
       "    .dataframe tbody tr th:only-of-type {\n",
       "        vertical-align: middle;\n",
       "    }\n",
       "\n",
       "    .dataframe tbody tr th {\n",
       "        vertical-align: top;\n",
       "    }\n",
       "\n",
       "    .dataframe thead th {\n",
       "        text-align: right;\n",
       "    }\n",
       "</style>\n",
       "<table border=\"1\" class=\"dataframe\">\n",
       "  <thead>\n",
       "    <tr style=\"text-align: right;\">\n",
       "      <th></th>\n",
       "      <th>Mã sinh viên</th>\n",
       "      <th>Họ đệm</th>\n",
       "      <th>Tên</th>\n",
       "      <th>diem_1</th>\n",
       "      <th>diem_2</th>\n",
       "    </tr>\n",
       "  </thead>\n",
       "  <tbody>\n",
       "    <tr>\n",
       "      <th>6</th>\n",
       "      <td>20015321</td>\n",
       "      <td>Nguyễn Bảo</td>\n",
       "      <td>Đại</td>\n",
       "      <td>0.0</td>\n",
       "      <td>NaN</td>\n",
       "    </tr>\n",
       "    <tr>\n",
       "      <th>18</th>\n",
       "      <td>22003005</td>\n",
       "      <td>Lê Ngọc</td>\n",
       "      <td>Hiếu</td>\n",
       "      <td>9.0</td>\n",
       "      <td>NaN</td>\n",
       "    </tr>\n",
       "    <tr>\n",
       "      <th>30</th>\n",
       "      <td>19469851</td>\n",
       "      <td>Nguyễn Trương Thiên</td>\n",
       "      <td>Long</td>\n",
       "      <td>0.0</td>\n",
       "      <td>NaN</td>\n",
       "    </tr>\n",
       "    <tr>\n",
       "      <th>31</th>\n",
       "      <td>21123021</td>\n",
       "      <td>Nguyễn Thành</td>\n",
       "      <td>Luân</td>\n",
       "      <td>9.5</td>\n",
       "      <td>NaN</td>\n",
       "    </tr>\n",
       "    <tr>\n",
       "      <th>47</th>\n",
       "      <td>20115901</td>\n",
       "      <td>Bùi Văn</td>\n",
       "      <td>Thể</td>\n",
       "      <td>10.0</td>\n",
       "      <td>NaN</td>\n",
       "    </tr>\n",
       "  </tbody>\n",
       "</table>\n",
       "</div>"
      ],
      "text/plain": [
       "   Mã sinh viên               Họ đệm   Tên  diem_1  diem_2\n",
       "6      20015321           Nguyễn Bảo   Đại     0.0     NaN\n",
       "18     22003005              Lê Ngọc  Hiếu     9.0     NaN\n",
       "30     19469851  Nguyễn Trương Thiên  Long     0.0     NaN\n",
       "31     21123021         Nguyễn Thành  Luân     9.5     NaN\n",
       "47     20115901              Bùi Văn   Thể    10.0     NaN"
      ]
     },
     "execution_count": 10,
     "metadata": {},
     "output_type": "execute_result"
    }
   ],
   "source": [
    "# Merge and find students with missing values on diem_2\n",
    "df_merge = pd.merge(left=df_file1, right=df_file2, on=\"Mã sinh viên\", how='left')\n",
    "\n",
    "df_merge[df_merge[\"diem_2\"].isna()]"
   ]
  },
  {
   "cell_type": "code",
   "execution_count": 11,
   "metadata": {},
   "outputs": [],
   "source": [
    "# Handle missing values by filling with 0\n",
    "df_merge[\"diem_2\"] = df_merge[\"diem_2\"].fillna(0)"
   ]
  },
  {
   "cell_type": "code",
   "execution_count": 12,
   "metadata": {},
   "outputs": [
    {
     "data": {
      "text/plain": [
       "Series([], Name: Mã sinh viên, dtype: object)"
      ]
     },
     "execution_count": 12,
     "metadata": {},
     "output_type": "execute_result"
    }
   ],
   "source": [
    "df_file_final = df_file_final[\"Mã sinh viên\"]\n",
    "df_file_final"
   ]
  },
  {
   "cell_type": "code",
   "execution_count": 13,
   "metadata": {},
   "outputs": [
    {
     "name": "stdout",
     "output_type": "stream",
     "text": [
      "   Mã sinh viên         Họ đệm   Tên  diem_1  diem_2  diem_final\n",
      "0      21015461   Trương Hoàng   Anh     9.0     8.0         9.5\n",
      "1      21000425        Cao Văn   Bảo     9.0     7.0         9.0\n",
      "2      21037621     Dương Thái   Bảo     9.0     7.0         9.0\n",
      "3      21017351    Trương Quốc   Bảo     9.0     7.0         9.0\n",
      "4      20110971      Trần Xuân  Bình     9.0     7.0         9.0\n",
      "..          ...            ...   ...     ...     ...         ...\n",
      "57     21020241     Nguyễn Đức  Vinh    10.0     8.0        10.0\n",
      "58     20101931         Vũ Thế  Vinh    10.0     8.0        10.0\n",
      "59     21013481       Trần Đức    Vũ    10.0     7.0         9.5\n",
      "60     21088201    Trần Nguyên    Vũ    10.0     6.0         9.0\n",
      "61     21046361  Trần Thị Thúy    Vy    10.0     8.0        10.0\n",
      "\n",
      "[62 rows x 6 columns]\n"
     ]
    }
   ],
   "source": [
    "df_output = pd.merge(left=df_merge, right=df_file_final, on=\"Mã sinh viên\", how='left')\n",
    "df_output[\"diem_final\"] = np.round((0.5 * (df_output[\"diem_1\"] + df_output[\"diem_2\"]*10/8)) * 2) / 2\n",
    "\n",
    "print(df_output)"
   ]
  },
  {
   "cell_type": "code",
   "execution_count": 14,
   "metadata": {},
   "outputs": [],
   "source": [
    "# Export to excel\n",
    "df_output.to_excel(\"./diem_final_output.xlsx\", index=False)"
   ]
  }
 ],
 "metadata": {
  "kernelspec": {
   "display_name": "Python 3",
   "language": "python",
   "name": "python3"
  },
  "language_info": {
   "codemirror_mode": {
    "name": "ipython",
    "version": 3
   },
   "file_extension": ".py",
   "mimetype": "text/x-python",
   "name": "python",
   "nbconvert_exporter": "python",
   "pygments_lexer": "ipython3",
   "version": "3.12.1"
  },
  "orig_nbformat": 4
 },
 "nbformat": 4,
 "nbformat_minor": 2
}
