{
 "cells": [
  {
   "cell_type": "code",
   "execution_count": 3,
   "metadata": {},
   "outputs": [
    {
     "name": "stdout",
     "output_type": "stream",
     "text": [
      "     Mã sinh viên         Họ đệm  Tên  Diem_1\n",
      "0             NaN            NaN  NaN     1.0\n",
      "1        21015461   Trương Hoàng  Anh     9.0\n",
      "2        21000425        Cao Văn  Bảo     9.0\n",
      "3        21037621     Dương Thái  Bảo     9.0\n",
      "4        21017351    Trương Quốc  Bảo     9.0\n",
      "..            ...            ...  ...     ...\n",
      "59       21013481       Trần Đức   Vũ    10.0\n",
      "60       21088201    Trần Nguyên   Vũ    10.0\n",
      "61       21046361  Trần Thị Thúy   Vy    10.0\n",
      "62            NaN             61  NaN     NaN\n",
      "63  Tổng cộng: 61            NaN  NaN     NaN\n",
      "\n",
      "[64 rows x 4 columns]\n"
     ]
    }
   ],
   "source": [
    "import pandas as pd\n",
    "diem_1_df = pd.read_excel('diem_1.xls')\n",
    "diem_2_df = pd.read_excel('diem_2.xls')\n",
    "\n",
    "print(diem_1_df)"
   ]
  }
 ],
 "metadata": {
  "kernelspec": {
   "display_name": "Python 3",
   "language": "python",
   "name": "python3"
  },
  "language_info": {
   "codemirror_mode": {
    "name": "ipython",
    "version": 3
   },
   "file_extension": ".py",
   "mimetype": "text/x-python",
   "name": "python",
   "nbconvert_exporter": "python",
   "pygments_lexer": "ipython3",
   "version": "3.12.1"
  }
 },
 "nbformat": 4,
 "nbformat_minor": 2
}
